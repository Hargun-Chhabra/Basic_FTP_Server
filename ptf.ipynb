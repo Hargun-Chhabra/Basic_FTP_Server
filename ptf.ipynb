{
 "cells": [
  {
   "cell_type": "code",
   "execution_count": 5,
   "metadata": {},
   "outputs": [],
   "source": [
    "from flask import Flask,render_template,request,send_from_directory\n",
    "import os\n",
    "import glob"
   ]
  },
  {
   "cell_type": "code",
   "execution_count": null,
   "metadata": {},
   "outputs": [],
   "source": []
  },
  {
   "cell_type": "code",
   "execution_count": null,
   "metadata": {},
   "outputs": [],
   "source": []
  },
  {
   "cell_type": "code",
   "execution_count": 8,
   "metadata": {},
   "outputs": [],
   "source": [
    "app=Flask(__name__)\n",
    "app.config['UPLOAD_FOLDER'] = r'C:\\Users\\Hargun\\Desktop\\ftpserver\\testset'\n",
    "app.config['DOWNLOAD_FOLDER'] = r'C:\\Users\\Hargun\\Desktop\\ftpserver\\testset'"
   ]
  },
  {
   "cell_type": "code",
   "execution_count": null,
   "metadata": {},
   "outputs": [
    {
     "name": "stdout",
     "output_type": "stream",
     "text": [
      " * Serving Flask app \"__main__\" (lazy loading)\n",
      " * Environment: production\n",
      "   WARNING: This is a development server. Do not use it in a production deployment.\n",
      "   Use a production WSGI server instead.\n",
      " * Debug mode: off\n"
     ]
    },
    {
     "name": "stderr",
     "output_type": "stream",
     "text": [
      " * Running on http://0.0.0.0:5000/ (Press CTRL+C to quit)\n",
      "192.168.43.1 - - [09/Jun/2020 11:48:00] \"\u001b[37mGET / HTTP/1.1\u001b[0m\" 200 -\n",
      "192.168.43.1 - - [09/Jun/2020 11:48:01] \"\u001b[33mGET /favicon.ico HTTP/1.1\u001b[0m\" 404 -\n",
      "192.168.43.13 - - [09/Jun/2020 11:48:37] \"\u001b[37mGET / HTTP/1.1\u001b[0m\" 200 -\n",
      "192.168.43.13 - - [09/Jun/2020 11:48:38] \"\u001b[33mGET /favicon.ico HTTP/1.1\u001b[0m\" 404 -\n",
      "192.168.43.13 - - [09/Jun/2020 11:49:14] \"\u001b[37mPOST /choice HTTP/1.1\u001b[0m\" 200 -\n",
      "192.168.43.13 - - [09/Jun/2020 11:49:15] \"\u001b[37mGET /static/jumbotron.css HTTP/1.1\u001b[0m\" 200 -\n",
      "192.168.43.13 - - [09/Jun/2020 11:49:15] \"\u001b[37mGET /static/bootstrap.min.css HTTP/1.1\u001b[0m\" 200 -\n",
      "192.168.43.13 - - [09/Jun/2020 11:49:15] \"\u001b[37mGET /static/bootstrap.bundle.min.js HTTP/1.1\u001b[0m\" 200 -\n",
      "192.168.43.13 - - [09/Jun/2020 11:49:51] \"\u001b[37mPOST /download HTTP/1.1\u001b[0m\" 200 -\n",
      "192.168.43.1 - - [09/Jun/2020 11:51:47] \"\u001b[37mPOST /choice HTTP/1.1\u001b[0m\" 200 -\n",
      "192.168.43.1 - - [09/Jun/2020 11:51:47] \"\u001b[37mGET /static/bootstrap.min.css HTTP/1.1\u001b[0m\" 200 -\n",
      "192.168.43.1 - - [09/Jun/2020 11:51:47] \"\u001b[37mGET /static/jumbotron.css HTTP/1.1\u001b[0m\" 200 -\n",
      "192.168.43.1 - - [09/Jun/2020 11:51:47] \"\u001b[37mGET /static/bootstrap.bundle.min.js HTTP/1.1\u001b[0m\" 200 -\n",
      "192.168.43.1 - - [09/Jun/2020 11:52:06] \"\u001b[37mPOST /download HTTP/1.1\u001b[0m\" 200 -\n"
     ]
    }
   ],
   "source": [
    "@app.route('/')\n",
    "def hello():\n",
    "    return render_template('index.html')\n",
    "\n",
    "@app.route('/choice',methods=['GET','POST'])\n",
    "def decision():\n",
    "    decis=request.form['decdata']\n",
    "    if(decis=='upload'):\n",
    "        return render_template('fileupload.html')\n",
    "    else:\n",
    "        string=''\n",
    "        for i in glob.glob(r'C:\\Users\\Hargun\\Desktop\\ftpserver\\testset\\*'):\n",
    "            string=string+ i[42:] +'  ,  '\n",
    "        return render_template('download.html',val=string)\n",
    "\n",
    "\n",
    "\n",
    "@app.route('/upload', methods=['GET','POST'])\n",
    "def upload():\n",
    "    if request.method == 'POST':\n",
    "        # check if the post request has the file\n",
    "        if request.files:\n",
    "            file = request.files['imagefile']\n",
    "\n",
    "            \n",
    "            file.save(os.path.join(app.config['UPLOAD_FOLDER'], file.filename))\n",
    "            \n",
    "    return ''\n",
    "            \n",
    "@app.route('/download', methods=['GET','POST'])\n",
    "def download():\n",
    "    decis=''\n",
    "    path=''\n",
    "    if request.method == 'POST':\n",
    "        decis=request.form['decdata2']\n",
    "        path=os.path.join(app.config['DOWNLOAD_FOLDER'],decis)\n",
    "        \n",
    "    for i in glob.glob(r'C:\\Users\\Hargun\\Desktop\\ftpserver\\testset\\*'):\n",
    "        return send_from_directory(directory=app.config['DOWNLOAD_FOLDER'], filename=i[42:],as_attachment=True)\n",
    "    \n",
    "    \n",
    "            \n",
    "    return ''\n",
    "app.run(host='0.0.0.0')"
   ]
  },
  {
   "cell_type": "code",
   "execution_count": 17,
   "metadata": {},
   "outputs": [],
   "source": [
    "import glob\n",
    "string=''\n",
    "for i in glob.glob(r'C:\\Users\\Hargun\\Desktop\\ftpserver\\testset\\*'):\n",
    "    string=string+ i[42:] +'n'"
   ]
  },
  {
   "cell_type": "code",
   "execution_count": 18,
   "metadata": {},
   "outputs": [
    {
     "data": {
      "text/plain": [
       "'16533_idx5_x601_y701_class1.png\\\\n16533_idx5_x701_y551_class1.png\\\\n16896_idx5_x101_y601_class0.png\\\\ndangerous.png\\\\nhi.docx\\\\nimages .jpg\\\\n'"
      ]
     },
     "execution_count": 18,
     "metadata": {},
     "output_type": "execute_result"
    }
   ],
   "source": [
    "string"
   ]
  },
  {
   "cell_type": "code",
   "execution_count": 4,
   "metadata": {},
   "outputs": [
    {
     "name": "stdout",
     "output_type": "stream",
     "text": [
      "\\Dimensionality Reduction (2).pptx\n",
      "\\Unit 1&4 Reinforcement Learning.pptx\n",
      "\\Unit 1- Clustering K-Means.pptx\n",
      "\\Unit 1- Itroduction to ML.pptx\n",
      "\\Unit 1- KNN and Confusion Matrix.pptx\n",
      "\\Unit 1- Linear Regression.pptx\n",
      "\\Unit 1- Logistic Regression.pptx\n",
      "\\Unit 3- Activation Functions.pptx\n",
      "\\Unit 3- Artificial Neural Network (1).pptx\n",
      "\\Unit 3-CNN.pptx\n",
      "\\Unit 4 - RNN.pptx\n",
      "\\Unit 4- SVM.pptx\n",
      "\\Unit 4. Kohonen SOM and Adaptive Resonance Theory .pptx\n",
      "\\Unit 5- Inductive and Analytical Learning (1).pptx\n",
      "\\Unit-2 Decision Tree Scan Copy.pdf\n",
      "\\Unit1 -Hierarchical Clustering.pptx\n"
     ]
    }
   ],
   "source": [
    "import glob\n",
    "for i in glob.glob(r'C:\\Users\\Hargun\\Desktop\\ftpserver\\testset\\*'):\n",
    "    print(i[42:])"
   ]
  },
  {
   "cell_type": "code",
   "execution_count": null,
   "metadata": {},
   "outputs": [],
   "source": []
  },
  {
   "cell_type": "code",
   "execution_count": null,
   "metadata": {},
   "outputs": [],
   "source": []
  },
  {
   "cell_type": "code",
   "execution_count": null,
   "metadata": {},
   "outputs": [],
   "source": []
  },
  {
   "cell_type": "code",
   "execution_count": null,
   "metadata": {},
   "outputs": [],
   "source": []
  },
  {
   "cell_type": "code",
   "execution_count": null,
   "metadata": {},
   "outputs": [],
   "source": []
  },
  {
   "cell_type": "code",
   "execution_count": null,
   "metadata": {},
   "outputs": [],
   "source": []
  },
  {
   "cell_type": "code",
   "execution_count": null,
   "metadata": {},
   "outputs": [],
   "source": []
  }
 ],
 "metadata": {
  "kernelspec": {
   "display_name": "Python 3",
   "language": "python",
   "name": "python3"
  },
  "language_info": {
   "codemirror_mode": {
    "name": "ipython",
    "version": 3
   },
   "file_extension": ".py",
   "mimetype": "text/x-python",
   "name": "python",
   "nbconvert_exporter": "python",
   "pygments_lexer": "ipython3",
   "version": "3.6.9"
  }
 },
 "nbformat": 4,
 "nbformat_minor": 2
}
